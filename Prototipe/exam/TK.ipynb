{
 "cells": [
  {
   "cell_type": "code",
   "execution_count": 18,
   "metadata": {},
   "outputs": [
    {
     "name": "stdout",
     "output_type": "stream",
     "text": [
      "<__main__.MultiplyByFive object at 0x000001ABF44E5210> Введіть число яке буде множетись на 5:\n",
      "Результат множення на 5: 50\n"
     ]
    }
   ],
   "source": [
    "class MultiplyByFive:\n",
    "    def __init__(self, number):\n",
    "        self.number = number\n",
    "\n",
    "    def multiply(self):\n",
    "        return self.number * 5\n",
    "\n",
    "# Приклад використання класу\n",
    "if __name__ == \"__main__\":\n",
    "    # Створюємо екземпляр класу і передаємо чисельний аргумент\n",
    "    obj = MultiplyByFive(10)\n",
    "    # Викликаємо метод класу для отримання результату\n",
    "    result = obj.multiply()\n",
    "\n",
    "    # Виводимо результат\n",
    "    print(f\"Результат множення на 5: {result}\")\n"
   ]
  }
 ],
 "metadata": {
  "kernelspec": {
   "display_name": "Python 3",
   "language": "python",
   "name": "python3"
  },
  "language_info": {
   "codemirror_mode": {
    "name": "ipython",
    "version": 3
   },
   "file_extension": ".py",
   "mimetype": "text/x-python",
   "name": "python",
   "nbconvert_exporter": "python",
   "pygments_lexer": "ipython3",
   "version": "3.11.4"
  }
 },
 "nbformat": 4,
 "nbformat_minor": 2
}
