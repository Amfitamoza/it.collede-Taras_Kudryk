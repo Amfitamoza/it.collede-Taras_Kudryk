{
 "cells": [
  {
   "cell_type": "markdown",
   "metadata": {},
   "source": [
    "### Виконуємо першу програму інтерактивно у комірках Python Jupyter Notebool\n",
    ">Ця комірка належить до Markdown, а наступні вже будуть з кодом Python"
   ]
  },
  {
   "cell_type": "markdown",
   "metadata": {},
   "source": [
    "- Наступна клітинка це імпорти бібліотек (Python)"
   ]
  },
  {
   "cell_type": "code",
   "execution_count": 8,
   "metadata": {},
   "outputs": [],
   "source": [
    "from datetime import datetime\n",
    "import time"
   ]
  },
  {
   "cell_type": "markdown",
   "metadata": {},
   "source": []
  },
  {
   "cell_type": "markdown",
   "metadata": {},
   "source": [
    "- Наступна клітинка задає змінні"
   ]
  },
  {
   "cell_type": "code",
   "execution_count": 9,
   "metadata": {},
   "outputs": [],
   "source": [
    "name = \"Taras\"\n",
    "location = \"Bytyny\""
   ]
  },
  {
   "cell_type": "markdown",
   "metadata": {},
   "source": [
    "- Наступна клітинка буде виводити текст"
   ]
  },
  {
   "cell_type": "code",
   "execution_count": 10,
   "metadata": {},
   "outputs": [
    {
     "name": "stdout",
     "output_type": "stream",
     "text": [
      "Taras start programming at 2023-09-19 09:14:58.967275. Bytyny is the best village!\n",
      "Програма виконувалась 5.000487804412842 секунд\n"
     ]
    }
   ],
   "source": [
    "start = time.time()\n",
    "print(f\"{name} start programming at {datetime.now()}. {location} is the best village!\")\n",
    "time.sleep(5)\n",
    "end = time.time()\n",
    "print(f\"Програма виконувалась {end - start} секунд\")"
   ]
  }
 ],
 "metadata": {
  "kernelspec": {
   "display_name": "Python 3",
   "language": "python",
   "name": "python3"
  },
  "language_info": {
   "codemirror_mode": {
    "name": "ipython",
    "version": 3
   },
   "file_extension": ".py",
   "mimetype": "text/x-python",
   "name": "python",
   "nbconvert_exporter": "python",
   "pygments_lexer": "ipython3",
   "version": "3.11.4"
  },
  "orig_nbformat": 4
 },
 "nbformat": 4,
 "nbformat_minor": 2
}
