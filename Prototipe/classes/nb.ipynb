{
 "cells": [
  {
   "cell_type": "markdown",
   "metadata": {},
   "source": [
    "## *Створення та робота з класами*"
   ]
  },
  {
   "cell_type": "code",
   "execution_count": 1,
   "metadata": {},
   "outputs": [
    {
     "name": "stdout",
     "output_type": "stream",
     "text": [
      "5 11\n"
     ]
    }
   ],
   "source": [
    "a = int(5)\n",
    "b = a.__add__(6)\n",
    "print(a, b)"
   ]
  },
  {
   "cell_type": "markdown",
   "metadata": {},
   "source": [
    "## Стовпи в ООП програмуванні"
   ]
  },
  {
   "cell_type": "markdown",
   "metadata": {},
   "source": [
    ">інкапсуляція - приховування даних всередині класу, приватні атрибути та методи;\n",
    "\n",
    ">наслідування - це можливість створення батьківських класів та поширення його функціоналу у похідні класи;\n",
    "\n",
    ">поліморфізм - ми можемо пеервизначати методи в похідних класах, тобто в різних класах той самий метод буде виконуватись по різному;\n",
    "\n",
    ">абстракція - використання функцій та методів класу не задумуючись про їх реалізацію, або логіку коду який реалізує даний функціонал;"
   ]
  },
  {
   "cell_type": "code",
   "execution_count": 2,
   "metadata": {},
   "outputs": [],
   "source": [
    "class BasicPet():\n",
    "    \"\"\"Це буде пустий клас для порівнянння\"\"\"\n",
    "    pass\n",
    "\n",
    "\n",
    "class Pet(BasicPet):\n",
    "    \"\"\"Клас для опису домашніх тваринок.\n",
    "    \n",
    "    breed: порода домашньої тваринки;\n",
    "    \n",
    "    name: імя тваринки;\n",
    "    \"\"\"\n",
    "    def __init__(self, breed:str, name:str) -> None:\n",
    "        self.breed = breed\n",
    "        self.name = name\n",
    "        self._secret = f\"{breed} звати {name}\"\n",
    "        self.__super_secret = \"Це внутрішній супер секретний атрибут\"\n",
    "    \n",
    "    def say(self):\n",
    "        return f\"{self.breed} не вміє говорити.\"\n",
    "\n",
    "    @property\n",
    "    def super_secret(self):\n",
    "        # атрибути з подвійним підкресленням можуть бути використані тільки всередині класу\n",
    "        return self.__super_secret\n",
    "    \n",
    "    def _internal(self):\n",
    "        return \"Це методи для внутрішнього використання\"\n",
    "    \n",
    "    def __super_internal(self):\n",
    "        return \"Повністю прихований метод\"\n",
    "    \n",
    "    def expose_internals(self):\n",
    "        return f\"Тут можна доступатись до: <<{self._internal()}>> та <<{self.__super_internal()}>>\"\n",
    "    \n",
    "    def __str__(self) -> str:\n",
    "        return f\"Домашній улюбленець {self.breed} на імя {self.name}\"\n",
    "    \n",
    "    def __len__(self) -> int:\n",
    "        \"\"\"Виклик даного методу порахує кількість букв в імені тваринки.\"\"\"\n",
    "        return len(self.name)\n",
    "    \n",
    "    def __repr__(self) -> str:\n",
    "        return f\"Це представлення обєкту з тваринкою {self.breed} на імя {self.name}\"\n",
    "    \n",
    "    def __add__(self, obj):\n",
    "        if isinstance(obj, Pet):\n",
    "            print(f\"{self.breed} по імені {self.name} подружився з {obj.breed} {obj.name}\")\n",
    "        elif isinstance(obj, str):\n",
    "            print(f\"Домашній улюбленець {self.name} створює звуки: {obj}\")\n",
    "        elif isinstance(obj, (int, float)):\n",
    "            print(f\"{self.breed} пробігла {obj} метрів.\")\n",
    "        else:\n",
    "            print(f\"{obj} не може взаємодіяти з {self.breed}\")\n",
    "    \n",
    "    def __radd__(self, obj):\n",
    "        print(f\"Праве додавання між {self} та {obj}\")\n",
    "    \n",
    "    def __sub__(self, obj):\n",
    "        print(\"Робимо віднімання\")\n",
    "    \n",
    "    def __mul__(self, obj):\n",
    "        print(\"Робимо множення\")\n",
    "    \n",
    "    def __truediv__(self, obj):\n",
    "        print(\"Робимо ділення\")\n",
    "        if isinstance(obj, (int, float)):\n",
    "            print(\"Домашніх улюбленців ділити на числа не можна!\")\n",
    "    \n",
    "class Dog(Pet):\n",
    "    def __init__(self, breed: str, name: str) -> None:\n",
    "        super().__init__(breed, name)\n",
    "        self.__super_secret = f\"{breed} погриз щось в хаті.\"\n",
    "        \n",
    "    def bark(self):\n",
    "        return f\"{self.name} починає гавкати. Гав-Гав\"\n",
    "\n",
    "    def say(self):\n",
    "        return f\"{self.breed} вміє гавкати.\"\n",
    "    \n",
    "    @property\n",
    "    def super_secret(self):\n",
    "        \"\"\"Спробуємо скласти батьківський атрибут з внутрішнім\"\"\"\n",
    "        return f\"Секрет базового класу: {super().super_secret} і Секрет цього класу: {self.__super_secret}\"\n",
    "\n",
    "class Cat(Pet):\n",
    "    def __init__(self, breed: str, name: str) -> None:\n",
    "        super().__init__(breed, name)\n",
    "    \n",
    "    def meow(self):\n",
    "        return f\"{self.name} починає мявкати. Мяууу\"\n",
    "    \n",
    "    def say(self):\n",
    "        return f\"{self.breed} вміє мявкати.\""
   ]
  },
  {
   "cell_type": "code",
   "execution_count": 3,
   "metadata": {},
   "outputs": [],
   "source": [
    "a = BasicPet()\n",
    "p = Pet(\"Леопард\", \"Танкіст\")\n",
    "b = Dog(\"Кіт\", \"Рекс\")\n",
    "c = Cat(\"Рибка\", \"Рузвільд\")"
   ]
  },
  {
   "cell_type": "markdown",
   "metadata": {},
   "source": [
    ">ми зробили перевизначення методу **str** і тепер представлення обєкту при виклику функції print буде не просто обєкт в памяті а його опис так як ми задумали"
   ]
  },
  {
   "cell_type": "code",
   "execution_count": 4,
   "metadata": {},
   "outputs": [
    {
     "name": "stdout",
     "output_type": "stream",
     "text": [
      "<__main__.BasicPet object at 0x0000018B1BC71110> Домашній улюбленець Кіт на імя Рекс\n"
     ]
    }
   ],
   "source": [
    "print(a, b)"
   ]
  },
  {
   "cell_type": "markdown",
   "metadata": {},
   "source": [
    "> тут також ми визначили як буде здійснюватись виклик функціх len по відношенню до нашого обєкта"
   ]
  },
  {
   "cell_type": "code",
   "execution_count": 5,
   "metadata": {},
   "outputs": [
    {
     "data": {
      "text/plain": [
       "4"
      ]
     },
     "execution_count": 5,
     "metadata": {},
     "output_type": "execute_result"
    }
   ],
   "source": [
    "#len(a) # Цей код буде видавати помилку, тому що у базовому класі ми не визначили що повертити як довжину\n",
    "len(b)"
   ]
  },
  {
   "cell_type": "code",
   "execution_count": 6,
   "metadata": {},
   "outputs": [
    {
     "name": "stdout",
     "output_type": "stream",
     "text": [
      "<__main__.BasicPet object at 0x0000018B1BC71110> Це представлення обєкту з тваринкою Кіт на імя Рекс\n"
     ]
    }
   ],
   "source": [
    "print(repr(a), repr(b))"
   ]
  },
  {
   "cell_type": "code",
   "execution_count": 7,
   "metadata": {},
   "outputs": [
    {
     "name": "stdout",
     "output_type": "stream",
     "text": [
      "Кіт по імені Рекс подружився з Рибка Рузвільд\n"
     ]
    }
   ],
   "source": [
    "\n",
    "b + c"
   ]
  },
  {
   "cell_type": "code",
   "execution_count": 8,
   "metadata": {},
   "outputs": [
    {
     "name": "stdout",
     "output_type": "stream",
     "text": [
      "Праве додавання між Домашній улюбленець Кіт на імя Рекс та <__main__.BasicPet object at 0x0000018B1BC71110>\n",
      "<__main__.BasicPet object at 0x0000018B1BC71110> не може взаємодіяти з Кіт\n",
      "<__main__.BasicPet object at 0x0000018B1BC71110> не може взаємодіяти з Кіт\n"
     ]
    }
   ],
   "source": [
    "# Даний код буде створювати помилку бо клас BasicPet немає визначеного методу __radd__\n",
    "# Але після створенняцього методу у класі Pet ми зможемо здійснити праве додавання\n",
    "a + b\n",
    "# а от обернена операція вже буде виконуватись\n",
    "b + a\n",
    "# Ці два виклики є ідентичними\n",
    "b.__add__(a)"
   ]
  },
  {
   "cell_type": "code",
   "execution_count": 9,
   "metadata": {},
   "outputs": [
    {
     "name": "stdout",
     "output_type": "stream",
     "text": [
      "Робимо ділення\n",
      "Домашніх улюбленців ділити на числа не можна!\n"
     ]
    }
   ],
   "source": [
    "\n",
    "b / 2"
   ]
  },
  {
   "cell_type": "code",
   "execution_count": 10,
   "metadata": {},
   "outputs": [
    {
     "name": "stdout",
     "output_type": "stream",
     "text": [
      "Домашній улюбленець Рекс створює звуки: ГРрррр\n",
      "Кіт пробігла 5 метрів.\n",
      "<__main__.BasicPet object at 0x0000018B1BC71110> не може взаємодіяти з Кіт\n"
     ]
    }
   ],
   "source": [
    "b + \"ГРрррр\"\n",
    "\n",
    "b + 5\n",
    "\n",
    "b + a"
   ]
  },
  {
   "cell_type": "code",
   "execution_count": 11,
   "metadata": {},
   "outputs": [
    {
     "data": {
      "text/plain": [
       "'Щось нове'"
      ]
     },
     "execution_count": 11,
     "metadata": {},
     "output_type": "execute_result"
    }
   ],
   "source": [
    "b.name = \"Лаккі\"\n",
    "\n",
    "b.name\n",
    "# хоча ми можемо змінити/перезаписати вміст змінної, цього краще не робити бо атрибути з підкресленням є приватними\n",
    "b._secret = \"Щось нове\"\n",
    "\n",
    "b._secret"
   ]
  },
  {
   "cell_type": "code",
   "execution_count": 12,
   "metadata": {},
   "outputs": [
    {
     "data": {
      "text/plain": [
       "'Секрет базового класу: Це внутрішній супер секретний атрибут і Секрет цього класу: Кіт погриз щось в хаті.'"
      ]
     },
     "execution_count": 12,
     "metadata": {},
     "output_type": "execute_result"
    }
   ],
   "source": [
    "# Напряму до атрибуту з подвійним підкресленням доступитись не можна\n",
    "#b.__super_secret\n",
    "# але ми можемо створити проперті та його вивести\n",
    "b.super_secret"
   ]
  },
  {
   "cell_type": "code",
   "execution_count": 13,
   "metadata": {},
   "outputs": [
    {
     "name": "stdout",
     "output_type": "stream",
     "text": [
      "Це методи для внутрішнього використання\n"
     ]
    },
    {
     "data": {
      "text/plain": [
       "'Тут можна доступатись до: <<Це методи для внутрішнього використання>> та <<Повністю прихований метод>>'"
      ]
     },
     "execution_count": 13,
     "metadata": {},
     "output_type": "execute_result"
    }
   ],
   "source": [
    "print(b._internal())\n",
    "# ми не можемо доступатись до приватних методів які мають плдвійне підкреслення, буде помилка\n",
    "#b.__super_internal()\n",
    "b.expose_internals()"
   ]
  },
  {
   "cell_type": "code",
   "execution_count": 14,
   "metadata": {},
   "outputs": [
    {
     "data": {
      "text/plain": [
       "'Повністю прихований метод'"
      ]
     },
     "execution_count": 14,
     "metadata": {},
     "output_type": "execute_result"
    }
   ],
   "source": [
    "# Доступитись до прихованих методів всетаки можна у наступний спосіб\n",
    "b._Pet__super_secret\n",
    "b._Pet__super_internal()"
   ]
  },
  {
   "cell_type": "code",
   "execution_count": 15,
   "metadata": {},
   "outputs": [
    {
     "data": {
      "text/plain": [
       "'Це внутрішній супер секретний атрибут'"
      ]
     },
     "execution_count": 15,
     "metadata": {},
     "output_type": "execute_result"
    }
   ],
   "source": [
    "c._internal\n",
    "c.super_secret"
   ]
  },
  {
   "cell_type": "code",
   "execution_count": 16,
   "metadata": {},
   "outputs": [
    {
     "name": "stdout",
     "output_type": "stream",
     "text": [
      "Кіт: Кіт вміє гавкати. -> Лаккі починає гавкати. Гав-Гав\n",
      "Рибка: Рибка вміє мявкати. -> Рузвільд починає мявкати. Мяууу\n"
     ]
    }
   ],
   "source": [
    "# приклад наслідування\n",
    "print(f\"{b.breed}: {b.say()} -> {b.bark()}\")\n",
    "print(f\"{c.breed}: {c.say()} -> {c.meow()}\")"
   ]
  },
  {
   "cell_type": "code",
   "execution_count": 17,
   "metadata": {},
   "outputs": [
    {
     "name": "stdout",
     "output_type": "stream",
     "text": [
      "В базовому класі: Леопард не вміє говорити.\n",
      "А в похідному класі: Кіт вміє гавкати.\n",
      "А також інший клас: Рибка вміє мявкати.\n"
     ]
    }
   ],
   "source": [
    "# приклад поліморфізму\n",
    "print(f\"В базовому класі: {p.say()}\\nА в похідному класі: {b.say()}\\nА також інший клас: {c.say()}\")"
   ]
  },
  {
   "cell_type": "code",
   "execution_count": 18,
   "metadata": {},
   "outputs": [
    {
     "name": "stdout",
     "output_type": "stream",
     "text": [
      "В основному класі: Це внутрішній супер секретний атрибут\n",
      "В похідному класі: Секрет базового класу: Це внутрішній супер секретний атрибут і Секрет цього класу: Кіт погриз щось в хаті.\n"
     ]
    }
   ],
   "source": [
    "# Тут ми зробили поліморфізм над атрибутами та властивостями\n",
    "print(f\"В основному класі: {p.super_secret}\\nВ похідному класі: {b.super_secret}\")"
   ]
  }
 ],
 "metadata": {
  "kernelspec": {
   "display_name": "Python 3",
   "language": "python",
   "name": "python3"
  },
  "language_info": {
   "codemirror_mode": {
    "name": "ipython",
    "version": 3
   },
   "file_extension": ".py",
   "mimetype": "text/x-python",
   "name": "python",
   "nbconvert_exporter": "python",
   "pygments_lexer": "ipython3",
   "version": "3.11.4"
  }
 },
 "nbformat": 4,
 "nbformat_minor": 2
}
