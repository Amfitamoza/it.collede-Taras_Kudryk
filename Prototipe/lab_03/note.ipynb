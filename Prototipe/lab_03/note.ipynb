{
 "cells": [
  {
   "cell_type": "markdown",
   "metadata": {},
   "source": [
    "# Основи ООП"
   ]
  },
  {
   "cell_type": "markdown",
   "metadata": {},
   "source": [
    "## Вступ та порівняння"
   ]
  },
  {
   "cell_type": "code",
   "execution_count": 55,
   "metadata": {},
   "outputs": [
    {
     "name": "stdout",
     "output_type": "stream",
     "text": [
      "['Це', 'стрічка.']\n",
      "Тарас має домашнього улюбленця Леопард\n",
      "Степко має домашнього улюбленця Тигр\n",
      "Баба Яга має домашнього улюбленця Пантера\n",
      "Тарас має домашнього улюбленця ['Пантера']\n",
      "Степко має домашнього улюбленця ['Білий ведмідь', 'Тигр']\n",
      "Баба Яга має домашнього улюбленця ['Леопард']\n",
      "Фюрер немає тваринок.\n"
     ]
    }
   ],
   "source": [
    "s = str(\"Це стрічка.\")\n",
    "for i in [s.split()]:\n",
    "    print(i)\n",
    "#якщо у нас є якийсь набір даних які потрібно між собою звязати\n",
    "name = [\"Тарас\", \"Степко\", \"Баба Яга\"]\n",
    "pets = [\"Леопард\",\"Тигр\", \"Пантера\", \"Білий ведмідь\"]\n",
    "\n",
    "for i in range(len(name)):\n",
    "    print(f\"{name[i]} має домашнього улюбленця {pets[i]}\")\n",
    "    \n",
    "# А як зробити відповідність якщо потрібно звязати один до декількох?\n",
    "# Можемо піти дуже складним шляхом та застосовувати словники\n",
    "who_has_pets = {\"Тарас\": [\"Пантера\"], \"Степко\": [\"Білий ведмідь\", \"Тигр\"], \"Баба Яга\": [\"Леопард\"], \"Фюрер\": None}\n",
    "for name in who_has_pets.keys():\n",
    "    if who_has_pets[name]:\n",
    "        print(f\"{name} має домашнього улюбленця {who_has_pets[name]}\")\n",
    "    else:\n",
    "        print(f\"{name} немає тваринок.\")"
   ]
  },
  {
   "cell_type": "code",
   "execution_count": 56,
   "metadata": {},
   "outputs": [
    {
     "name": "stdout",
     "output_type": "stream",
     "text": [
      "<__main__.WhoHasPets object at 0x0000028422775990>\n",
      "<__main__.WhoHasPets object at 0x00000284227749D0>\n"
     ]
    }
   ],
   "source": [
    "# ООП дозволяє створити новий тип даних та описавши його властивості та поведінку\n",
    "\n",
    "class WhoHasPets():\n",
    "    pass\n",
    "\n",
    "a = WhoHasPets()\n",
    "a.name = \"Тарас\"\n",
    "a.surname = \"Т\"\n",
    "a.pets = [\"Леопард\", \"Білий ведмідь\"]\n",
    "a.pets_age = {\"Леопард з\": 1968, \"Білий ведмідь з\": 2020}\n",
    "\n",
    "print(a)\n",
    "\n",
    "b = WhoHasPets()\n",
    "print(b)\n"
   ]
  },
  {
   "cell_type": "code",
   "execution_count": 57,
   "metadata": {},
   "outputs": [],
   "source": [
    "def print_objects(obj:list):  \n",
    "    for member in obj:\n",
    "        #print(f\"{member.name} {member.surname} має домашнього улюбленця {member.pets}. Тваринки мають вік {member.pets_age}\")\n",
    "        print(f\"{member.name} {member.surname} має домашнього улюбленця {member.pets}. Тваринки з ним вже з {member.pets_age}\")"
   ]
  },
  {
   "cell_type": "markdown",
   "metadata": {},
   "source": [
    "- Атрибути об'єктів, визначення через класи"
   ]
  },
  {
   "cell_type": "code",
   "execution_count": 66,
   "metadata": {},
   "outputs": [
    {
     "name": "stdout",
     "output_type": "stream",
     "text": [
      "Тарас Т має домашнього улюбленця Заведи собі домашніх улюбленців. Тваринки з ним вже з {}\n",
      "Андрій А має домашнього улюбленця {'Собака'}. Тваринки з ним вже з {'Собака': 2010}\n",
      "Адольф Г має домашнього улюбленця {'Тигр', 'Леопард'}. Тваринки з ним вже з {'Леопард': 2023, 'Тигр': 2022}\n",
      "1\n"
     ]
    }
   ],
   "source": [
    "# У класі є одна особлива функція яка називається Конструктор\n",
    "# У конструкторі зявляються особлива зміна, яка називається self - вказівник на обєкт\n",
    "# self ніколи явно не передається при виклику обєктів\n",
    "class WhoHasPets():\n",
    "    # Ми передаємо у конструктор аргументи для заповнення атрибутів обєкту\n",
    "    def __init__(self, name:str, surname:str, pets:set={}, pets_age:dict={}) -> None:\n",
    "        self.name = name\n",
    "        self.surname = surname\n",
    "        # ми можемо модифікувати аргументи перш ніж присвоїти їх артибутам обєкту\n",
    "        self.full_name = name + \" \" + surname\n",
    "        self.pets = pets if len(pets) > 0 else \"Заведи собі домашніх улюбленців\"\n",
    "        self.pets_age = pets_age\n",
    "        \n",
    "    @property\n",
    "    def full_name_property(self):\n",
    "        return f\"{self.name} {self.surname}\"\n",
    "    \n",
    "    def pets_amount(self):\n",
    "        return len(self.pets) if isinstance(self.pets, set) else 0\n",
    "\n",
    "    def add_new_pet(self, breed:str, name:str=None, age:int=None):\n",
    "        if isinstance(self.pets, set):\n",
    "            # У даного обєкта вже є улюбленці, тому ми просто додаємо нового до списку\n",
    "            self.pets.add(breed)\n",
    "        else:\n",
    "            self.pets = {breed}\n",
    "        if name != None and age != None:\n",
    "            self.pets_age = {name: age}\n",
    "    \n",
    "    def remove_pet(self, breed:str):\n",
    "        print(f\"Як шкода що {breed} вже немає :(\")\n",
    "        self.pets.remove(breed)\n",
    "        \n",
    "    @staticmethod\n",
    "    def say_hello(spam:bool = False):\n",
    "        s = \"Привіт всім любителям домашніх тварин!\"\n",
    "        if spam:\n",
    "            for i in range(10):\n",
    "              print(f\"{s} Кажу це вже {i} раз!!!\")\n",
    "              \n",
    "        else:\n",
    "            print(s)\n",
    "        \n",
    "              \n",
    "\n",
    "a = WhoHasPets(\"Тарас\", \"Т\")\n",
    "b = WhoHasPets(\"Андрій\", \"А\", set([\"Собака\"]), {\"Собака\": 2010})\n",
    "c = WhoHasPets(\"Адольф\", \"Г\", {\"Леопард\", \"Тигр\"}, {\"Леопард\": 2023, \"Тигр\": 2022 })\n",
    "\n",
    "print_objects([a,b,c])\n",
    "\n",
    "### Для порівняння, в цілих числа конструктор міг буим ініціалізований числом, яка є аргументом щол передається у конструктор\n",
    "n = int(1)\n",
    "print(n)"
   ]
  },
  {
   "cell_type": "code",
   "execution_count": 59,
   "metadata": {},
   "outputs": [
    {
     "name": "stdout",
     "output_type": "stream",
     "text": [
      "Барбарис\n",
      "Барбарис Т\n",
      "Барбарис Т має домашнього улюбленця Заведи собі домашніх улюбленців. Тваринки з ним вже з {}\n"
     ]
    }
   ],
   "source": [
    "a.name = \"Барбарис\"\n",
    "print(a.name)\n",
    "print(a.full_name_property)\n",
    "print_objects([a])"
   ]
  },
  {
   "cell_type": "code",
   "execution_count": 60,
   "metadata": {},
   "outputs": [
    {
     "name": "stdout",
     "output_type": "stream",
     "text": [
      "Барбарис має 0 домашніх улюбленців. В нього є: Заведи собі домашніх улюбленців\n",
      "Андрій має 0 домашніх улюбленців. В нього є: ['Собака']\n",
      "Адольф має 0 домашніх улюбленців. В нього є: ['Леопард', 'Тигр']\n"
     ]
    }
   ],
   "source": [
    "a.pets_amount()\n",
    "for o in [a, b, c]:\n",
    "    print(f\"{o.name} має {o.pets_amount()} домашніх улюбленців. В нього є: {o.pets}\")"
   ]
  },
  {
   "cell_type": "code",
   "execution_count": 61,
   "metadata": {},
   "outputs": [
    {
     "name": "stdout",
     "output_type": "stream",
     "text": [
      "Барбарис має 1 домашніх улюбленців. В нього є: {'Кіт'}\n"
     ]
    }
   ],
   "source": [
    "a.add_new_pet(\"Кіт\")\n",
    "# Дописати логіку предавання імент улюбленців!\n",
    "for o in [a]:\n",
    "    print(f\"{o.name} має {o.pets_amount()} домашніх улюбленців. В нього є: {o.pets}\")"
   ]
  },
  {
   "cell_type": "code",
   "execution_count": 62,
   "metadata": {},
   "outputs": [
    {
     "name": "stdout",
     "output_type": "stream",
     "text": [
      "Барбарис має 2 домашніх улюбленців. В нього є: {'Кіт', 'Тигр'}. Імя домашнього улюбленця: {'Мауглі': 17}\n"
     ]
    }
   ],
   "source": [
    "a.add_new_pet(\"Тигр\", \"Мауглі\", 17)\n",
    "\n",
    "for o in [a]:\n",
    "    print(f\"{o.name} має {o.pets_amount()} домашніх улюбленців. В нього є: {o.pets}. Імя домашнього улюбленця: {a.pets_age}\")\n",
    "\n"
   ]
  },
  {
   "cell_type": "code",
   "execution_count": 63,
   "metadata": {},
   "outputs": [
    {
     "name": "stdout",
     "output_type": "stream",
     "text": [
      "Як шкода що Тигр вже немає :(\n",
      "Барбарис має 1 домашніх улюбленців. В нього є: {'Кіт'}. Імя домашнього улюбленця: {'Мауглі': 17}\n"
     ]
    }
   ],
   "source": [
    "a.remove_pet(\"Тигр\")\n",
    "for o in [a]:\n",
    "    print(f\"{o.name} має {o.pets_amount()} домашніх улюбленців. В нього є: {o.pets}. Імя домашнього улюбленця: {a.pets_age}\")"
   ]
  },
  {
   "cell_type": "code",
   "execution_count": 64,
   "metadata": {},
   "outputs": [
    {
     "name": "stdout",
     "output_type": "stream",
     "text": [
      "Привіт всім любителям домашніх тварин!\n",
      "Привіт всім любителям домашніх тварин! Кажу це вже 0 раз!!!\n",
      "Привіт всім любителям домашніх тварин! Кажу це вже 1 раз!!!\n",
      "Привіт всім любителям домашніх тварин! Кажу це вже 2 раз!!!\n",
      "Привіт всім любителям домашніх тварин! Кажу це вже 3 раз!!!\n",
      "Привіт всім любителям домашніх тварин! Кажу це вже 4 раз!!!\n",
      "Привіт всім любителям домашніх тварин! Кажу це вже 5 раз!!!\n",
      "Привіт всім любителям домашніх тварин! Кажу це вже 6 раз!!!\n",
      "Привіт всім любителям домашніх тварин! Кажу це вже 7 раз!!!\n",
      "Привіт всім любителям домашніх тварин! Кажу це вже 8 раз!!!\n",
      "Привіт всім любителям домашніх тварин! Кажу це вже 9 раз!!!\n"
     ]
    }
   ],
   "source": [
    "a.say_hello()\n",
    "b.say_hello(True)"
   ]
  },
  {
   "cell_type": "markdown",
   "metadata": {},
   "source": [
    "- Розберемо детальніше вказівник на обєкт self"
   ]
  },
  {
   "cell_type": "code",
   "execution_count": 70,
   "metadata": {},
   "outputs": [
    {
     "name": "stdout",
     "output_type": "stream",
     "text": [
      "Це виклик методу з класу і ми явно передаємо обєкт: 1\n",
      " A це через обєкт: 1\n"
     ]
    }
   ],
   "source": [
    "\n",
    "print(f\"Це виклик методу з класу і ми явно передаємо обєкт: {WhoHasPets.pets_amount(b)}\\n A це через обєкт: {b.pets_amount()}\")"
   ]
  }
 ],
 "metadata": {
  "kernelspec": {
   "display_name": "Python 3",
   "language": "python",
   "name": "python3"
  },
  "language_info": {
   "codemirror_mode": {
    "name": "ipython",
    "version": 3
   },
   "file_extension": ".py",
   "mimetype": "text/x-python",
   "name": "python",
   "nbconvert_exporter": "python",
   "pygments_lexer": "ipython3",
   "version": "3.11.4"
  }
 },
 "nbformat": 4,
 "nbformat_minor": 2
}
