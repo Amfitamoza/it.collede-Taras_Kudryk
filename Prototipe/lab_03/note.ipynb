{
 "cells": [
  {
   "cell_type": "markdown",
   "metadata": {},
   "source": [
    "# Основи ООП"
   ]
  },
  {
   "cell_type": "markdown",
   "metadata": {},
   "source": [
    "## Вступ та порівняння"
   ]
  },
  {
   "cell_type": "code",
   "execution_count": 1,
   "metadata": {},
   "outputs": [
    {
     "name": "stdout",
     "output_type": "stream",
     "text": [
      "['Це', 'стрічка.']\n",
      "Тарас має домашнього улюбленця Леопард\n",
      "Степко має домашнього улюбленця Тигр\n",
      "Баба Яга має домашнього улюбленця Пантера\n",
      "Тарас має домашнього улюбленця ['Пантера']\n",
      "Степко має домашнього улюбленця ['Білий ведмідь', 'Тигр']\n",
      "Баба Яга має домашнього улюбленця ['Леопард']\n",
      "Фюрер немає тваринок.\n"
     ]
    }
   ],
   "source": [
    "s = str(\"Це стрічка.\")\n",
    "for i in [s.split()]:\n",
    "    print(i)\n",
    "#якщо у нас є якийсь набір даних які потрібно між собою звязати\n",
    "name = [\"Тарас\", \"Степко\", \"Баба Яга\"]\n",
    "pets = [\"Леопард\",\"Тигр\", \"Пантера\", \"Білий ведмідь\"]\n",
    "\n",
    "for i in range(len(name)):\n",
    "    print(f\"{name[i]} має домашнього улюбленця {pets[i]}\")\n",
    "    \n",
    "# А як зробити відповідність якщо потрібно звязати один до декількох?\n",
    "# Можемо піти дуже складним шляхом та застосовувати словники\n",
    "who_has_pets = {\"Тарас\": [\"Пантера\"], \"Степко\": [\"Білий ведмідь\", \"Тигр\"], \"Баба Яга\": [\"Леопард\"], \"Фюрер\": None}\n",
    "for name in who_has_pets.keys():\n",
    "    if who_has_pets[name]:\n",
    "        print(f\"{name} має домашнього улюбленця {who_has_pets[name]}\")\n",
    "    else:\n",
    "        print(f\"{name} немає тваринок.\")"
   ]
  },
  {
   "cell_type": "code",
   "execution_count": 2,
   "metadata": {},
   "outputs": [
    {
     "name": "stdout",
     "output_type": "stream",
     "text": [
      "<__main__.WhoHasPets object at 0x000001D5E2352590>\n",
      "<__main__.WhoHasPets object at 0x000001D5E2350BD0>\n"
     ]
    }
   ],
   "source": [
    "# ООП дозволяє створити новий тип даних та описавши його властивості та поведінку\n",
    "\n",
    "class WhoHasPets():\n",
    "    pass\n",
    "\n",
    "a = WhoHasPets()\n",
    "a.name = \"Тарас\"\n",
    "a.surname = \"Т\"\n",
    "a.pets = [\"Леопард\", \"Білий ведмідь\"]\n",
    "a.pets_age = {\"Леопард з\": 1968, \"Білий ведмідь з\": 2020}\n",
    "\n",
    "print(a)\n",
    "\n",
    "b = WhoHasPets()\n",
    "print(b)\n"
   ]
  },
  {
   "cell_type": "code",
   "execution_count": 3,
   "metadata": {},
   "outputs": [],
   "source": [
    "def print_objects(obj:list):  \n",
    "    for member in obj:\n",
    "        #print(f\"{member.name} {member.surname} має домашнього улюбленця {member.pets}. Тваринки мають вік {member.pets_age}\")\n",
    "        print(f\"{member.name} {member.surname} має домашнього улюбленця {member.pets}. Тваринки з ним вже з {member.pets_age}\")"
   ]
  },
  {
   "cell_type": "markdown",
   "metadata": {},
   "source": [
    "- Атрибути об'єктів, визначення через класи"
   ]
  },
  {
   "cell_type": "code",
   "execution_count": 9,
   "metadata": {},
   "outputs": [
    {
     "name": "stdout",
     "output_type": "stream",
     "text": [
      "Тарас Т має домашнього улюбленця Заведи собі домашніх улюбленців. Тваринки з ним вже з {}\n",
      "Андрій А має домашнього улюбленця ['Собака']. Тваринки з ним вже з {'Собака': 2010}\n",
      "Адольф Г має домашнього улюбленця ['Леопард', 'Тигр']. Тваринки з ним вже з {'Леопард': 2023, 'Тигр': 2022}\n",
      "1\n"
     ]
    }
   ],
   "source": [
    "# У класі є одна особлива функція яка називається Конструктор\n",
    "# У конструкторі зявляються особлива зміна, яка називається self - вказівник на обєкт\n",
    "# self ніколи явно не передається при виклику обєктів\n",
    "class WhoHasPets():\n",
    "    # Ми передаємо у конструктор аргументи для заповнення атрибутів обєкту\n",
    "    def __init__(self, name:str, surname, pets:list=[], pets_age:dict={}) -> None:\n",
    "        self.name = name\n",
    "        self.surname = surname\n",
    "        # ми можемо модифікувати аргументи перш ніж присвоїти їх артибутам обєкту\n",
    "        self.full_name = name + \" \" + surname\n",
    "        self.pets = pets if len(pets) > 0 else \"Заведи собі домашніх улюбленців\"\n",
    "        self.pets_age = pets_age\n",
    "        \n",
    "    @property\n",
    "    def full_name_property(self):\n",
    "        return f\"{self.name} {self.surname}\"\n",
    "    \n",
    "    def pets_amount(self):\n",
    "        return len(self.pets) if isinstance(self.pets, list) else 0\n",
    "\n",
    "    def add_new_pets(self, breed:str, name:str=None, age:int=None):\n",
    "        if isinstance(self.pets, set):\n",
    "            # У даного обєкта вже є улюбленці, тому ми просто додаємо нового до списку\n",
    "            self.pets.add(breed)\n",
    "        else:\n",
    "            self.pets = {breed}\n",
    "\n",
    "\n",
    "a = WhoHasPets(\"Тарас\", \"Т\")\n",
    "b = WhoHasPets(\"Андрій\", \"А\", [\"Собака\"], {\"Собака\": 2010})\n",
    "c = WhoHasPets(\"Адольф\", \"Г\", [\"Леопард\", \"Тигр\"], {\"Леопард\": 2023, \"Тигр\": 2022 })\n",
    "\n",
    "print_objects([a,b,c])\n",
    "\n",
    "### Для порівняння, в цілих числа конструктор міг буим ініціалізований числом, яка є аргументом щол передається у конструктор\n",
    "n = int(1)\n",
    "print(n)"
   ]
  },
  {
   "cell_type": "code",
   "execution_count": 7,
   "metadata": {},
   "outputs": [
    {
     "name": "stdout",
     "output_type": "stream",
     "text": [
      "Барбарис\n",
      "Барбарис Т\n",
      "Барбарис Т має домашнього улюбленця Заведи собі домашніх улюбленців. Тваринки з ним вже з {}\n"
     ]
    }
   ],
   "source": [
    "a.name = \"Барбарис\"\n",
    "print(a.name)\n",
    "print(a.full_name_property)\n",
    "print_objects([a])"
   ]
  },
  {
   "cell_type": "code",
   "execution_count": 8,
   "metadata": {},
   "outputs": [
    {
     "name": "stdout",
     "output_type": "stream",
     "text": [
      "Барбарис має 0 домашніх улюбленців. В нього є: Заведи собі домашніх улюбленців\n",
      "Андрій має 1 домашніх улюбленців. В нього є: ['Собака']\n",
      "Адольф має 2 домашніх улюбленців. В нього є: ['Леопард', 'Тигр']\n"
     ]
    }
   ],
   "source": [
    "a.pets_amount()\n",
    "for o in [a, b, c]:\n",
    "    print(f\"{o.name} має {o.pets_amount()} домашніх улюбленців. В нього є: {o.pets}\")"
   ]
  },
  {
   "cell_type": "code",
   "execution_count": null,
   "metadata": {},
   "outputs": [],
   "source": [
    "a.add_new_pets(\"Кіт\")\n",
    "# Дописати логіку предавання імент улюбленців!\n",
    "for o in [a]:\n",
    "    print(f\"{o.name} має {o.pets_amount()} домашніх улюбленців. В нього є: {o.pets}\")"
   ]
  }
 ],
 "metadata": {
  "kernelspec": {
   "display_name": "Python 3",
   "language": "python",
   "name": "python3"
  },
  "language_info": {
   "codemirror_mode": {
    "name": "ipython",
    "version": 3
   },
   "file_extension": ".py",
   "mimetype": "text/x-python",
   "name": "python",
   "nbconvert_exporter": "python",
   "pygments_lexer": "ipython3",
   "version": "3.11.4"
  }
 },
 "nbformat": 4,
 "nbformat_minor": 2
}
