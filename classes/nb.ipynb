{
 "cells": [
  {
   "cell_type": "code",
   "execution_count": 1,
   "metadata": {},
   "outputs": [
    {
     "name": "stdout",
     "output_type": "stream",
     "text": [
      "5 11\n"
     ]
    }
   ],
   "source": [
    "a = int(5)\n",
    "b = a.__add__(6)\n",
    "print(a, b)"
   ]
  },
  {
   "cell_type": "code",
   "execution_count": 2,
   "metadata": {},
   "outputs": [],
   "source": [
    "class BasicPet():\n",
    "    \"\"\"Це буде пустий клас для порівнянння\"\"\"\n",
    "    pass\n",
    "\n",
    "\n",
    "class Pet():\n",
    "    \"\"\"Клас для опису домашніх тваринок.\n",
    "    \n",
    "    breed: порода домашньої тваринки;\n",
    "    \n",
    "    name: імя тваринки;\n",
    "    \"\"\"\n",
    "    def __init__(self, breed:str, name:str) -> None:\n",
    "        self.breed = breed\n",
    "        self.name = name\n",
    "    \n",
    "    def __str__(self) -> str:\n",
    "        return f\"Домашній улюбленець {self.breed} на імя {self.name}\"\n",
    "    \n",
    "    def __len__(self) -> int:\n",
    "        \"\"\"Виклик даного методу порахує кількість букв в імені тваринки.\"\"\"\n",
    "        return len(self.name)\n",
    "    \n",
    "    def __repr__(self) -> str:\n",
    "        return f\"Це представлення обєкту з тваринкою {self.breed} на імя {self.name}\"\n",
    "    \n",
    "    def __add__(self, obj):\n",
    "        if isinstance(obj, Pet):\n",
    "            print(f\"{self.breed} по імені {self.name} подружився з {obj.breed} {obj.name}\")\n",
    "        elif isinstance(obj, str):\n",
    "            print(f\"Домашній улюбленець {self.name} створює звуки: {obj}\")\n",
    "        elif isinstance(obj, (int, float)):\n",
    "            print(f\"{self.breed} пробігла {obj} метрів.\")\n",
    "        else:\n",
    "            print(f\"{obj} не може взаємодіяти з {self.breed}\")\n",
    "    \n",
    "    def __radd__(self, obj):\n",
    "        print(f\"Праве додавання між {self} та {obj}\")\n",
    "    \n",
    "    def __sub__(self, obj):\n",
    "        print(\"Робимо віднімання\")\n",
    "    \n",
    "    def __mul__(self, obj):\n",
    "        print(\"Робимо множення\")\n",
    "    \n",
    "    def __truediv__(self, obj):\n",
    "        print(\"Робимо ділення\")\n",
    "        if isinstance(obj, (int, float)):\n",
    "            print(\"Домашніх улюбленців ділити на числа не можна!\")\n",
    "    \n",
    "    "
   ]
  },
  {
   "cell_type": "code",
   "execution_count": 3,
   "metadata": {},
   "outputs": [],
   "source": [
    "a = BasicPet()\n",
    "b = Pet(\"Крокодил\", \"Лаккi\")\n",
    "с = Pet(\"Бобер\", \"Бобі\")"
   ]
  },
  {
   "cell_type": "markdown",
   "metadata": {},
   "source": [
    ">ми зробили перевизначення методу str і тепер представлення обєкту при виклику функції print буде не просто обєкт в памяті а його опис так як ми задумали"
   ]
  },
  {
   "cell_type": "code",
   "execution_count": 4,
   "metadata": {},
   "outputs": [
    {
     "name": "stdout",
     "output_type": "stream",
     "text": [
      "<__main__.BasicPet object at 0x000001EADCBA9890> Домашній улюбленець Крокодил на імя Лаккi\n"
     ]
    }
   ],
   "source": [
    "print(a, b)"
   ]
  },
  {
   "cell_type": "code",
   "execution_count": 5,
   "metadata": {},
   "outputs": [
    {
     "data": {
      "text/plain": [
       "5"
      ]
     },
     "execution_count": 5,
     "metadata": {},
     "output_type": "execute_result"
    }
   ],
   "source": [
    "#len(a) # Цей код буде видавати помилку, тому що у базовому класі ми не визначили що повертити як довжину\n",
    "len(b)"
   ]
  },
  {
   "cell_type": "code",
   "execution_count": 6,
   "metadata": {},
   "outputs": [
    {
     "name": "stdout",
     "output_type": "stream",
     "text": [
      "<__main__.BasicPet object at 0x000001EADCBA9890> Це представлення обєкту з тваринкою Крокодил на імя Лаккi\n"
     ]
    }
   ],
   "source": [
    "print(repr(a), repr(b))"
   ]
  },
  {
   "cell_type": "code",
   "execution_count": 7,
   "metadata": {},
   "outputs": [
    {
     "ename": "NameError",
     "evalue": "name 'c' is not defined",
     "output_type": "error",
     "traceback": [
      "\u001b[1;31m---------------------------------------------------------------------------\u001b[0m",
      "\u001b[1;31mNameError\u001b[0m                                 Traceback (most recent call last)",
      "\u001b[1;32mc:\\Users\\Streetezi\\Desktop\\Мої роботи\\Навчання\\it.коледж\\it.collede-Taras_Kudryk\\classes\\nb.ipynb Ячейка 8\u001b[0m line \u001b[0;36m1\n\u001b[1;32m----> <a href='vscode-notebook-cell:/c%3A/Users/Streetezi/Desktop/%D0%9C%D0%BE%D1%97%20%D1%80%D0%BE%D0%B1%D0%BE%D1%82%D0%B8/%D0%9D%D0%B0%D0%B2%D1%87%D0%B0%D0%BD%D0%BD%D1%8F/it.%D0%BA%D0%BE%D0%BB%D0%B5%D0%B4%D0%B6/it.collede-Taras_Kudryk/classes/nb.ipynb#X10sZmlsZQ%3D%3D?line=0'>1</a>\u001b[0m b \u001b[39m+\u001b[39m c\n",
      "\u001b[1;31mNameError\u001b[0m: name 'c' is not defined"
     ]
    }
   ],
   "source": [
    "b + c"
   ]
  },
  {
   "cell_type": "code",
   "execution_count": null,
   "metadata": {},
   "outputs": [],
   "source": [
    "# Даний код буде створювати помилку бо клас BasicPet немає визначеного методу __radd__\n",
    "# Але після створенняцього методу у класі Pet ми зможемо здійснити праве додавання\n",
    "a + b\n",
    "# а от обернена операція вже буде виконуватись\n",
    "b + a\n",
    "# Ці два виклики є ідентичними\n",
    "b.__add__(a)"
   ]
  },
  {
   "cell_type": "code",
   "execution_count": null,
   "metadata": {},
   "outputs": [
    {
     "name": "stdout",
     "output_type": "stream",
     "text": [
      "<__main__.BasicPet object at 0x0000020421E6EAD0> не може взаємодіяти з Крокодил\n"
     ]
    }
   ],
   "source": [
    "b / 2"
   ]
  },
  {
   "cell_type": "code",
   "execution_count": null,
   "metadata": {},
   "outputs": [],
   "source": [
    "b + \"Гав\"\n",
    "\n",
    "b + 5\n",
    "\n",
    "b + a"
   ]
  }
 ],
 "metadata": {
  "kernelspec": {
   "display_name": "Python 3",
   "language": "python",
   "name": "python3"
  },
  "language_info": {
   "codemirror_mode": {
    "name": "ipython",
    "version": 3
   },
   "file_extension": ".py",
   "mimetype": "text/x-python",
   "name": "python",
   "nbconvert_exporter": "python",
   "pygments_lexer": "ipython3",
   "version": "3.11.4"
  }
 },
 "nbformat": 4,
 "nbformat_minor": 2
}
